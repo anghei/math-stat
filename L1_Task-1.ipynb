{
 "cells": [
  {
   "cell_type": "markdown",
   "metadata": {},
   "source": [
    "### Task-1\n",
    "\n",
    "Из колоды в 52 карты извлекаются случайным образом 4 карты. \n",
    "\n",
    "a) Найти вероятность того, что все карты – крести. \n",
    "б) Найти вероятность, что среди 4-х карт окажется хотя бы один туз."
   ]
  },
  {
   "cell_type": "code",
   "execution_count": 3,
   "metadata": {},
   "outputs": [],
   "source": [
    "from math import factorial"
   ]
  },
  {
   "cell_type": "code",
   "execution_count": 4,
   "metadata": {},
   "outputs": [],
   "source": [
    "# Определяем сначала, что все карты будут крестовой масти\n",
    "def clubs_to_all():\n",
    "    \n",
    "    # Определяем количество возможных сочетаний исходя из масти крести (всего 13 карт данной масти в колоде из 52 карт)\n",
    "    def clubs_combinations(n=13,k=4):\n",
    "        return int(factorial(n) / (factorial(k)*factorial(n-k)))\n",
    "\n",
    "    # Определяем количество всех возможных сочетаний\n",
    "    def all_combinations(n=52,k=4):\n",
    "        return int(factorial(n) / (factorial(k)*factorial(n-k)))\n",
    "    return f'Вероятность того, что все 4 карты окажутся крести - \\\n",
    "{round((clubs_combinations() / all_combinations())*100, 2)}%';"
   ]
  },
  {
   "cell_type": "code",
   "execution_count": 5,
   "metadata": {},
   "outputs": [
    {
     "data": {
      "text/plain": [
       "'Вероятность того, что все 4 карты окажутся крести - 0.26%'"
      ]
     },
     "execution_count": 5,
     "metadata": {},
     "output_type": "execute_result"
    }
   ],
   "source": [
    "clubs_to_all()"
   ]
  },
  {
   "cell_type": "code",
   "execution_count": 6,
   "metadata": {},
   "outputs": [],
   "source": [
    "# Теперь вычислим вероятность того, что среди 4-х карт окажется хотя бы один туз\n",
    "def aces_to_all():\n",
    "    \n",
    "    # Определяем количество возможных сочетаний исходя из того, что в колоде из 52 карт содержится 4 туза\n",
    "    def aces_combinations(n=48,k=4):\n",
    "        return int(factorial(n) / (factorial(k)*factorial(n-k)))\n",
    "\n",
    "    # Определяем количество всех возможных сочетаний\n",
    "    def all_combinations(n=52,k=4):\n",
    "        return int(factorial(n) / (factorial(k)*factorial(n-k)))\n",
    "    return f'Вероятность того, что в рукаве окажется хотя бы один туз - \\\n",
    "{round((1 - (aces_combinations() / all_combinations()))*100, 2)}%';"
   ]
  },
  {
   "cell_type": "code",
   "execution_count": 7,
   "metadata": {},
   "outputs": [
    {
     "data": {
      "text/plain": [
       "'Вероятность того, что в рукаве окажется хотя бы один туз - 28.13%'"
      ]
     },
     "execution_count": 7,
     "metadata": {},
     "output_type": "execute_result"
    }
   ],
   "source": [
    "aces_to_all()"
   ]
  },
  {
   "cell_type": "code",
   "execution_count": null,
   "metadata": {},
   "outputs": [],
   "source": []
  }
 ],
 "metadata": {
  "kernelspec": {
   "display_name": "Python 3",
   "language": "python",
   "name": "python3"
  },
  "language_info": {
   "codemirror_mode": {
    "name": "ipython",
    "version": 3
   },
   "file_extension": ".py",
   "mimetype": "text/x-python",
   "name": "python",
   "nbconvert_exporter": "python",
   "pygments_lexer": "ipython3",
   "version": "3.8.5"
  }
 },
 "nbformat": 4,
 "nbformat_minor": 4
}
