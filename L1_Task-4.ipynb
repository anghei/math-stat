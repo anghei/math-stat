{
 "cells": [
  {
   "cell_type": "markdown",
   "metadata": {},
   "source": [
    "### Task-4\n",
    "\n",
    "В лотерее 100 билетов. Из них 2 выигрышных. \n",
    "Какова вероятность того, что 2 приобретенных билета окажутся выигрышными?"
   ]
  },
  {
   "cell_type": "code",
   "execution_count": 4,
   "metadata": {},
   "outputs": [],
   "source": [
    "from math import factorial"
   ]
  },
  {
   "cell_type": "code",
   "execution_count": 14,
   "metadata": {},
   "outputs": [],
   "source": [
    "# Определяем наш шанс выиграть заветный приз\n",
    "def win_total():\n",
    "    # Определяем количество всех возможных сочетаний\n",
    "    def all_combinations(n=100,k=2):\n",
    "        return int(factorial(n) / (factorial(k)*factorial(n-k)))\n",
    "\n",
    "    # Определяем количество неблагоприятных событий\n",
    "    def neg_combinations(n=98,k=2):\n",
    "        return int(factorial(n) / (factorial(k)*factorial(n-k)))\n",
    "    return f'Вероятность того, что 2 приобретенных билета окажутся выигрышными - \\\n",
    "{round((1 - (neg_combinations() / all_combinations()))* 100, 2)}%'"
   ]
  },
  {
   "cell_type": "code",
   "execution_count": 15,
   "metadata": {},
   "outputs": [
    {
     "data": {
      "text/plain": [
       "'Вероятность того, что 2 приобретенных билета окажутся выигрышными - 3.98%'"
      ]
     },
     "execution_count": 15,
     "metadata": {},
     "output_type": "execute_result"
    }
   ],
   "source": [
    "win_total()"
   ]
  },
  {
   "cell_type": "code",
   "execution_count": null,
   "metadata": {},
   "outputs": [],
   "source": []
  }
 ],
 "metadata": {
  "kernelspec": {
   "display_name": "Python 3",
   "language": "python",
   "name": "python3"
  },
  "language_info": {
   "codemirror_mode": {
    "name": "ipython",
    "version": 3
   },
   "file_extension": ".py",
   "mimetype": "text/x-python",
   "name": "python",
   "nbconvert_exporter": "python",
   "pygments_lexer": "ipython3",
   "version": "3.8.5"
  }
 },
 "nbformat": 4,
 "nbformat_minor": 4
}
