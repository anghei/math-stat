{
 "cells": [
  {
   "cell_type": "markdown",
   "id": "concrete-congress",
   "metadata": {},
   "source": [
    "### Task 1\n",
    "Вероятность того, что стрелок попадет в мишень, выстрелив один раз, равна 0.8. Стрелок выстрелил 100 раз. Найдите вероятность того, что стрелок попадет в цель ровно 85 раз."
   ]
  },
  {
   "cell_type": "code",
   "execution_count": 9,
   "id": "variable-immigration",
   "metadata": {},
   "outputs": [],
   "source": [
    "from math import factorial\n",
    "from scipy.stats import poisson"
   ]
  },
  {
   "cell_type": "code",
   "execution_count": 2,
   "id": "union-healthcare",
   "metadata": {},
   "outputs": [],
   "source": [
    "def bernoulli_schema(n,k,p,q):\n",
    "\n",
    "    def combination(n,k):\n",
    "        return factorial(n) / (factorial(k)*factorial(n-k))\n",
    "    \n",
    "    return combination(n,k)*p**k*q**(n-k)"
   ]
  },
  {
   "cell_type": "code",
   "execution_count": 3,
   "id": "great-receipt",
   "metadata": {},
   "outputs": [
    {
     "data": {
      "text/plain": [
       "0.048061793700746556"
      ]
     },
     "execution_count": 3,
     "metadata": {},
     "output_type": "execute_result"
    }
   ],
   "source": [
    "bernoulli_schema(100,85,0.8,0.2)"
   ]
  },
  {
   "cell_type": "markdown",
   "id": "fossil-navigation",
   "metadata": {},
   "source": [
    "### Task 2\n",
    "Вероятность того, что лампочка перегорит в течение первого дня эксплуатации, равна 0.0004. В жилом комплексе после ремонта в один день включили 5000 новых лампочек.\n",
    "\n",
    "2.1 Какова вероятность, что ни одна из них не перегорит в первый день?\n"
   ]
  },
  {
   "cell_type": "code",
   "execution_count": 4,
   "id": "personalized-ebony",
   "metadata": {},
   "outputs": [],
   "source": [
    "p = 0.0004\n",
    "n = 5000"
   ]
  },
  {
   "cell_type": "code",
   "execution_count": 11,
   "id": "conscious-costs",
   "metadata": {},
   "outputs": [
    {
     "data": {
      "text/plain": [
       "0.1353352832366127"
      ]
     },
     "execution_count": 11,
     "metadata": {},
     "output_type": "execute_result"
    }
   ],
   "source": [
    "poisson.pmf(0, p*n)"
   ]
  },
  {
   "cell_type": "markdown",
   "id": "grave-oracle",
   "metadata": {},
   "source": [
    "2.2 Какова вероятность, что перегорят ровно две?"
   ]
  },
  {
   "cell_type": "code",
   "execution_count": 12,
   "id": "accessory-drama",
   "metadata": {},
   "outputs": [
    {
     "data": {
      "text/plain": [
       "0.2706705664732254"
      ]
     },
     "execution_count": 12,
     "metadata": {},
     "output_type": "execute_result"
    }
   ],
   "source": [
    "poisson.pmf(2, p*n)"
   ]
  },
  {
   "cell_type": "markdown",
   "id": "legal-judgment",
   "metadata": {},
   "source": [
    "### Task 3\n",
    "Монету подбросили 144 раза. Какова вероятность, что орел выпадет ровно 70 раз?"
   ]
  },
  {
   "cell_type": "code",
   "execution_count": 13,
   "id": "extended-athletics",
   "metadata": {},
   "outputs": [
    {
     "data": {
      "text/plain": [
       "0.06281178035144776"
      ]
     },
     "execution_count": 13,
     "metadata": {},
     "output_type": "execute_result"
    }
   ],
   "source": [
    "bernoulli_schema(144,70,0.5,0.5)"
   ]
  },
  {
   "cell_type": "markdown",
   "id": "threatened-individual",
   "metadata": {},
   "source": [
    "### Task 4\n",
    "В первом ящике находится 10 мячей, из которых 7 - белые. Во втором ящике - 11 мячей, из которых 9 белых. Из каждого ящика вытаскивают случайным образом по два мяча.\n",
    "\n",
    "4.1 Какова вероятность того, что все мячи белые?"
   ]
  },
  {
   "cell_type": "code",
   "execution_count": 14,
   "id": "funky-lawyer",
   "metadata": {},
   "outputs": [
    {
     "data": {
      "text/plain": [
       "0.3054545454545455"
      ]
     },
     "execution_count": 14,
     "metadata": {},
     "output_type": "execute_result"
    }
   ],
   "source": [
    "(7*6*9*8)/(10*9*11*10)"
   ]
  },
  {
   "cell_type": "markdown",
   "id": "disturbed-green",
   "metadata": {},
   "source": [
    "4.2 Какова вероятность того, что ровно два мяча белые?\n",
    "\n",
    "6 возможных вариантов = (бб)(чч)+(бч)(бч)+(бч)(чб)+(чб)(бч)+(чб)(чб)+(чч)(бб)"
   ]
  },
  {
   "cell_type": "code",
   "execution_count": 15,
   "id": "pediatric-hawaii",
   "metadata": {},
   "outputs": [
    {
     "data": {
      "text/plain": [
       "0.20484848484848484"
      ]
     },
     "execution_count": 15,
     "metadata": {},
     "output_type": "execute_result"
    }
   ],
   "source": [
    "(7/10)*(6/9)*(2/11)*(1/10) + (7/10)*(3/9)*(9/11)*(2/10) + (7/10)*(3/9)*(2/11)*(9/10) + \\\n",
    "(3/10)*(7/9)*(9/11)*(2/10) + (3/10)*(7/9)*(2/11)*(9/10) + (3/10)*(2/9)*(9/11)*(8/10)"
   ]
  },
  {
   "cell_type": "markdown",
   "id": "institutional-eating",
   "metadata": {},
   "source": [
    "4.3 Какова вероятность того, что хотя бы один мяч белый?\n",
    "\n",
    "1 - вероятность что все черные"
   ]
  },
  {
   "cell_type": "code",
   "execution_count": 17,
   "id": "ceramic-dispute",
   "metadata": {},
   "outputs": [
    {
     "data": {
      "text/plain": [
       "0.9987878787878788"
      ]
     },
     "execution_count": 17,
     "metadata": {},
     "output_type": "execute_result"
    }
   ],
   "source": [
    "1-(3/10*2/9*2/11*1/10)"
   ]
  },
  {
   "cell_type": "code",
   "execution_count": null,
   "id": "alleged-palace",
   "metadata": {},
   "outputs": [],
   "source": []
  }
 ],
 "metadata": {
  "kernelspec": {
   "display_name": "Python 3",
   "language": "python",
   "name": "python3"
  },
  "language_info": {
   "codemirror_mode": {
    "name": "ipython",
    "version": 3
   },
   "file_extension": ".py",
   "mimetype": "text/x-python",
   "name": "python",
   "nbconvert_exporter": "python",
   "pygments_lexer": "ipython3",
   "version": "3.8.5"
  }
 },
 "nbformat": 4,
 "nbformat_minor": 5
}
