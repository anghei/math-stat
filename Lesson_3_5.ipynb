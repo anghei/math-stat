{
 "cells": [
  {
   "cell_type": "code",
   "execution_count": 1,
   "metadata": {},
   "outputs": [],
   "source": [
    "p1 = 0.1\n",
    "p2 = 0.2\n",
    "p3 = 0.25\n",
    "\n",
    "q1 = 1 - p1\n",
    "q2 = 1 - p2\n",
    "q3 = 1 - p3\n",
    "\n",
    "all_failed = p1 * p2 * p3"
   ]
  },
  {
   "cell_type": "code",
   "execution_count": 8,
   "metadata": {},
   "outputs": [
    {
     "name": "stdout",
     "output_type": "stream",
     "text": [
      "0.08000000000000002\n"
     ]
    }
   ],
   "source": [
    "# только две детали вышли из строя\n",
    "two_failed = p1 * p2 * q3 + p1 * p3 * q2 + p2 * p3 * q1\n",
    "print(two_failed)"
   ]
  },
  {
   "cell_type": "code",
   "execution_count": 6,
   "metadata": {},
   "outputs": [
    {
     "name": "stdout",
     "output_type": "stream",
     "text": [
      "0.45999999999999996\n"
     ]
    }
   ],
   "source": [
    "# хотя бы одна деталь вышла из строя\n",
    "min_one_failed = 1 - q1 * q2 * q3\n",
    "print(min_one_failed)"
   ]
  },
  {
   "cell_type": "code",
   "execution_count": 5,
   "metadata": {},
   "outputs": [
    {
     "name": "stdout",
     "output_type": "stream",
     "text": [
      "0.45499999999999996\n"
     ]
    }
   ],
   "source": [
    "# от одной до двух деталей вышли из строя\n",
    "one_to_two_failed = min_one_failed - all_failed\n",
    "print(one_to_two_failed)"
   ]
  },
  {
   "cell_type": "code",
   "execution_count": null,
   "metadata": {},
   "outputs": [],
   "source": []
  }
 ],
 "metadata": {
  "kernelspec": {
   "display_name": "Python 3",
   "language": "python",
   "name": "python3"
  },
  "language_info": {
   "codemirror_mode": {
    "name": "ipython",
    "version": 3
   },
   "file_extension": ".py",
   "mimetype": "text/x-python",
   "name": "python",
   "nbconvert_exporter": "python",
   "pygments_lexer": "ipython3",
   "version": "3.8.5"
  }
 },
 "nbformat": 4,
 "nbformat_minor": 4
}
