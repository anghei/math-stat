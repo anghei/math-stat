{
 "cells": [
  {
   "cell_type": "markdown",
   "metadata": {},
   "source": [
    "#### Task-1\n",
    "\n",
    "Случайная непрерывная величина A имеет равномерное распределение на промежутке (200, 800].\n",
    "Найдите ее среднее значение и дисперсию."
   ]
  },
  {
   "cell_type": "code",
   "execution_count": 1,
   "metadata": {},
   "outputs": [],
   "source": [
    "mean = (800 + 200) / 2"
   ]
  },
  {
   "cell_type": "code",
   "execution_count": 2,
   "metadata": {},
   "outputs": [],
   "source": [
    "variance = (800 - 200) ** 2 / 12"
   ]
  },
  {
   "cell_type": "code",
   "execution_count": 5,
   "metadata": {},
   "outputs": [
    {
     "name": "stdout",
     "output_type": "stream",
     "text": [
      "Среднее значение заданной случайной величины А - 500, дисперсия величины А - 30000\n"
     ]
    }
   ],
   "source": [
    "print(f'Среднее значение заданной случайной величины А - {int(mean)}, дисперсия величины А - {int(variance)}')"
   ]
  },
  {
   "cell_type": "markdown",
   "metadata": {},
   "source": [
    "#### Task-2\n",
    "\n",
    "О случайной непрерывной равномерно распределенной величине B известно, что ее дисперсия равна 0.2.\n",
    "Можно ли найти правую границу величины B и ее среднее значение зная, что левая граница равна 0.5?\n",
    "Если да, найдите ее."
   ]
  },
  {
   "cell_type": "code",
   "execution_count": 8,
   "metadata": {},
   "outputs": [],
   "source": [
    "from math import sqrt"
   ]
  },
  {
   "cell_type": "code",
   "execution_count": 12,
   "metadata": {},
   "outputs": [],
   "source": [
    "variance = 0.2\n",
    "left_side = 0.5\n",
    "a = left_side"
   ]
  },
  {
   "cell_type": "markdown",
   "metadata": {},
   "source": [
    "Воспользуемся для нахождения правой границы формулой нахождения дисперсии:\n",
    "\n",
    "$$D(X) = \\frac{(b - a)^2}{12}$$"
   ]
  },
  {
   "cell_type": "code",
   "execution_count": 14,
   "metadata": {},
   "outputs": [
    {
     "name": "stdout",
     "output_type": "stream",
     "text": [
      "2.049193338482967\n"
     ]
    }
   ],
   "source": [
    "b = sqrt(variance*12) + a\n",
    "print(b)"
   ]
  },
  {
   "cell_type": "markdown",
   "metadata": {},
   "source": [
    "Для определения среднего значения, зная границы интервала равномерно распределенной непрерывной случайной величины, воспользуемся формулой:\n",
    "\n",
    "$$M(X) = \\frac{a + b}{2}$$"
   ]
  },
  {
   "cell_type": "code",
   "execution_count": 16,
   "metadata": {},
   "outputs": [
    {
     "name": "stdout",
     "output_type": "stream",
     "text": [
      "1.2745966692414834\n"
     ]
    }
   ],
   "source": [
    "mean = (a + b) / 2\n",
    "print(mean)"
   ]
  },
  {
   "cell_type": "markdown",
   "metadata": {},
   "source": [
    "#### Task-3\n",
    "\n",
    "Непрерывная случайная величина X распределена нормально и задана плотностью распределения\n",
    "f(x) = (1 / (4 * sqrt(2*pi))) * (exp(-((x+2)**2) / 32))\n",
    "\n",
    "$$f(x) = \\frac{1}{4 \\sqrt{2 \\pi}} e ^ {- \\frac{(x + 2)^2}{32}},$$\n",
    "\n",
    "Найдите:\n",
    "\n",
    "а). M(X)\n",
    "\n",
    "б). D(X)\n",
    "\n",
    "в). std(X) (среднее квадратичное отклонение)"
   ]
  },
  {
   "cell_type": "markdown",
   "metadata": {},
   "source": [
    "Из формулы известно что:\n",
    "\n",
    "$$\\sigma = 4 $$\n",
    "$$ a = M(x) = -2 $$"
   ]
  },
  {
   "cell_type": "code",
   "execution_count": 22,
   "metadata": {},
   "outputs": [
    {
     "name": "stdout",
     "output_type": "stream",
     "text": [
      "M(x) = -2\n"
     ]
    }
   ],
   "source": [
    "a2 = -2\n",
    "mean2 = a2\n",
    "print(f'M(x) = {mean2}')"
   ]
  },
  {
   "cell_type": "code",
   "execution_count": 20,
   "metadata": {},
   "outputs": [
    {
     "name": "stdout",
     "output_type": "stream",
     "text": [
      "D(x) = 16\n"
     ]
    }
   ],
   "source": [
    "variance2 = 4**2\n",
    "print(f'D(x) = {variance2}')"
   ]
  },
  {
   "cell_type": "code",
   "execution_count": 24,
   "metadata": {},
   "outputs": [
    {
     "name": "stdout",
     "output_type": "stream",
     "text": [
      "Std(x) = 4.0\n"
     ]
    }
   ],
   "source": [
    "std = sqrt(variance2)\n",
    "print(f'Std(x) = {std}')"
   ]
  },
  {
   "cell_type": "markdown",
   "metadata": {},
   "source": [
    "#### Task-4\n",
    "\n",
    "Рост взрослого населения города X имеет нормальное распределение.\n",
    "Причем, средний рост равен 174 см, а среднее квадратичное отклонение равно 8 см.\n",
    "Какова вероятность того, что случайным образом выбранный взрослый человек имеет рост:\n",
    "\n",
    "а). больше 182 см\n",
    "\n",
    "б). больше 190 см\n",
    "\n",
    "в). от 166 см до 190 см\n",
    "\n",
    "г). от 166 см до 182 см\n",
    "\n",
    "д). от 158 см до 190 см\n",
    "\n",
    "е). не выше 150 см или не ниже 190 см\n",
    "\n",
    "ё). не выше 150 см или не ниже 198 см\n",
    "\n",
    "ж). ниже 166 см."
   ]
  },
  {
   "cell_type": "code",
   "execution_count": 25,
   "metadata": {},
   "outputs": [],
   "source": [
    "# а). больше 182 см\n",
    "z1 = (182 - 174) / 8\n",
    "p1 = 1 - 0.8413\n",
    "# Ответ: z = 1.0, => p = 0.158"
   ]
  },
  {
   "cell_type": "code",
   "execution_count": 26,
   "metadata": {},
   "outputs": [],
   "source": [
    "# б). больше 190 см\n",
    "z2 = (190 - 174) / 8\n",
    "p2 = 1 - 0.9772\n",
    "# Ответ: z = 2.0, => p = 0.022"
   ]
  },
  {
   "cell_type": "code",
   "execution_count": 33,
   "metadata": {},
   "outputs": [],
   "source": [
    "# в). от 166 см до 190 см\n",
    "z3_a = (166 - 174) / 8\n",
    "# Из таблицы -1.0 == 0.1587\n",
    "z3_b = (190 - 174) / 8\n",
    "# Из таблицы 2.0 == 0.9772\n",
    "p3 = 0.9772 - 0.1587\n",
    "# Ответ: 0.8185"
   ]
  },
  {
   "cell_type": "code",
   "execution_count": 34,
   "metadata": {},
   "outputs": [],
   "source": [
    "# г). от 166 см до 182 см\n",
    "z4_a = (166 - 174) / 8\n",
    "# Из таблицы -1.0 == 0.1587\n",
    "z4_b = (182 - 174) / 8\n",
    "# Из таблицы 1.0 == 0.8413\n",
    "p4 = 0.8413 - 0.1587\n",
    "# Ответ: 0.682"
   ]
  },
  {
   "cell_type": "code",
   "execution_count": 35,
   "metadata": {},
   "outputs": [],
   "source": [
    "# д). от 158 см до 190 см\n",
    "z5_a = (158 - 174) / 8\n",
    "# Из таблицы -2.0 == 0.0228\n",
    "z5_b = (190 - 174) / 8\n",
    "# Из таблицы 2.0 == 0.9772\n",
    "p5 = 0.9772 - 0.0228\n",
    "# Ответ: 0.954"
   ]
  },
  {
   "cell_type": "code",
   "execution_count": 37,
   "metadata": {},
   "outputs": [],
   "source": [
    "# е). не выше 150 см или не ниже 190 см\n",
    "z6_a = (150 - 174) / 8\n",
    "# Из таблицы -3.0 == 0.0013\n",
    "z6_b = (190 - 174) / 8\n",
    "# Из таблицы 2.0 == 0.9772\n",
    "p6 = 0.0013 + 1 - 0.9772\n",
    "# Ответ: 0.0241"
   ]
  },
  {
   "cell_type": "code",
   "execution_count": 38,
   "metadata": {},
   "outputs": [],
   "source": [
    "# ё). не выше 150 см или не ниже 198 см\n",
    "z7_a = (150 - 174) / 8\n",
    "# Из таблицы -3.0 == 0.0013\n",
    "z7_b = (198 - 174) / 8\n",
    "# Из таблицы 3.0 == 0.9987\n",
    "p7 = 0.0013 + 1 - 0.9987\n",
    "# Ответ: 0.0026"
   ]
  },
  {
   "cell_type": "code",
   "execution_count": 39,
   "metadata": {},
   "outputs": [],
   "source": [
    "# ж). ниже 166 см.\n",
    "z8 = (166 - 174) / 8\n",
    "# Ответ: 0.15"
   ]
  },
  {
   "cell_type": "markdown",
   "metadata": {},
   "source": [
    "#### Task-5\n",
    "\n",
    "На сколько сигм (средних квадратичных отклонений) отклоняется рост человека, равный 190 см, от\n",
    "математического ожидания роста в популяции, в которой M(X) = 178 см и D(X) = 25 кв.см?"
   ]
  },
  {
   "cell_type": "code",
   "execution_count": 40,
   "metadata": {},
   "outputs": [
    {
     "name": "stdout",
     "output_type": "stream",
     "text": [
      "СКО от математического ожидания роста в популяции (178) и дисперсии в ней (25) составляет - 2.4)\n"
     ]
    }
   ],
   "source": [
    "std_1 = (190 - 178) / sqrt(25)\n",
    "print(f'СКО от математического ожидания роста в популяции (178) и дисперсии в ней (25) составляет - {std_1})')"
   ]
  },
  {
   "cell_type": "code",
   "execution_count": null,
   "metadata": {},
   "outputs": [],
   "source": []
  }
 ],
 "metadata": {
  "kernelspec": {
   "display_name": "Python 3",
   "language": "python",
   "name": "python3"
  },
  "language_info": {
   "codemirror_mode": {
    "name": "ipython",
    "version": 3
   },
   "file_extension": ".py",
   "mimetype": "text/x-python",
   "name": "python",
   "nbconvert_exporter": "python",
   "pygments_lexer": "ipython3",
   "version": "3.8.5"
  }
 },
 "nbformat": 4,
 "nbformat_minor": 4
}
