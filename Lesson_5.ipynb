{
 "cells": [
  {
   "cell_type": "markdown",
   "metadata": {},
   "source": [
    "1. Известно, что генеральная совокупность распределена нормально со средним квадратическим отклонением,\n",
    "равным 16. Найти доверительный интервал для оценки математического ожидания a с надежностью 0.95, если\n",
    "выборочная средняя M = 80, а объем выборки n = 256."
   ]
  },
  {
   "cell_type": "code",
   "execution_count": 2,
   "metadata": {},
   "outputs": [],
   "source": [
    "from math import sqrt"
   ]
  },
  {
   "cell_type": "code",
   "execution_count": 3,
   "metadata": {},
   "outputs": [],
   "source": [
    "std = 16\n",
    "a = 0.05\n",
    "# Z для 97.5% (2.5 + 95%) равна 1.96\n",
    "Z = 1.96\n",
    "M = 80\n",
    "n = 256\n",
    "\n",
    "confidence_interval_a = M - Z * (std / sqrt(n))\n",
    "confidence_interval_b = M + Z * (std / sqrt(n))\n",
    "# Ответ: (78.04;81.96)"
   ]
  },
  {
   "cell_type": "code",
   "execution_count": 9,
   "metadata": {},
   "outputs": [
    {
     "name": "stdout",
     "output_type": "stream",
     "text": [
      "Доверительный интервал - (78.04; 81.96)\n"
     ]
    }
   ],
   "source": [
    "print(f'Доверительный интервал - ({confidence_interval_a}; {confidence_interval_b})')"
   ]
  },
  {
   "cell_type": "markdown",
   "metadata": {},
   "source": [
    "2. В результате 10 независимых измерений некоторой величины X, выполненных с одинаковой точностью,\n",
    "получены опытные данные: 6.9, 6.1, 6.2, 6.8, 7.5, 6.3, 6.4, 6.9, 6.7, 6.1 Предполагая, что результаты\n",
    "измерений подчинены нормальному закону распределения вероятностей, оценить истинное значение величины X при\n",
    "помощи доверительного интервала, покрывающего это значение с доверительной вероятностью 0,95.\n"
   ]
  },
  {
   "cell_type": "code",
   "execution_count": 10,
   "metadata": {},
   "outputs": [
    {
     "name": "stdout",
     "output_type": "stream",
     "text": [
      "6.8959140708761195\n"
     ]
    }
   ],
   "source": [
    "sample = [6.9, 6.1, 6.2, 6.8, 7.5, 6.3, 6.4, 6.9, 6.7, 6.1]\n",
    "Z = 2.262\n",
    "\n",
    "M = sum(sample ) / len(sample)\n",
    "std = sqrt(sum((x - sum(sample ) / len(sample)) ** 2 for x in sample) / (len(sample)))\n",
    "\n",
    "\n",
    "confidence_interval_a = M - Z * (std / sqrt(len(sample)))\n",
    "confidence_interval_b = M + Z * (std / sqrt(len(sample)))\n",
    "# Ответ: (6.28;6.89)\n",
    "\n",
    "\n",
    "print(confidence_interval_b)"
   ]
  },
  {
   "cell_type": "markdown",
   "metadata": {},
   "source": [
    "3. Утверждается, что шарики для подшипников, изготовленные автоматическим станком, имеют средний диаметр 17 мм.\n",
    "Используя односторонний критерий с α=0,05, проверить эту гипотезу, если в выборке из n=100 шариков средний\n",
    "диаметр оказался равным 17.5 мм, а дисперсия известна и равна 4 кв.мм."
   ]
  },
  {
   "cell_type": "code",
   "execution_count": 26,
   "metadata": {},
   "outputs": [
    {
     "name": "stdout",
     "output_type": "stream",
     "text": [
      "2.5\n"
     ]
    }
   ],
   "source": [
    "n = 100\n",
    "std = sqrt(4)\n",
    "# Z табличное для 95% равно 1.65\n",
    "Zt = 1.65\n",
    "X = 17.5\n",
    "u0 = 17\n",
    "\n",
    "Zo = (X - u0) / (std / sqrt(n))\n",
    "# Z наблюдаемое равно 2.5\n",
    "# Ответ: H1 верна (Zн > Zт) при α=0,05\n",
    "print(Zo)"
   ]
  },
  {
   "cell_type": "markdown",
   "metadata": {},
   "source": [
    "4. Продавец утверждает, что средний вес пачки печенья составляет 200 г. Из партии извлечена выборка из 10 пачек.\n",
    "Вес каждой пачки составляет:\n",
    "202, 203, 199, 197, 195, 201, 200, 204, 194, 190. Известно,\n",
    "что их веса распределены нормально.\n",
    "Верно ли утверждение продавца, если учитывать, что доверительная вероятность равна 99%?"
   ]
  },
  {
   "cell_type": "code",
   "execution_count": 25,
   "metadata": {},
   "outputs": [
    {
     "name": "stdout",
     "output_type": "stream",
     "text": [
      "-1.0651074037450896\n"
     ]
    }
   ],
   "source": [
    "sample = [202, 203, 199, 197, 195, 201, 200, 204, 194, 190]\n",
    "n = 10\n",
    "std = sqrt(sum((x - sum(sample) / len(sample)) ** 2 for x in sample) / (len(sample) - 1))\n",
    "# Используем критерий Стьюдента - Zc\n",
    "Zc = 3.250\n",
    "X = sum(sample) / len(sample)\n",
    "u0 = 200\n",
    "\n",
    "\n",
    "Zo = (X - u0) / (std / sqrt(n))\n",
    "# Z наблюдаемое равно -1.06\n",
    "# Ответ: H0 верна (Zн < Zc) при α=0,01\n",
    "\n",
    "print(Zo)"
   ]
  }
 ],
 "metadata": {
  "kernelspec": {
   "display_name": "Python 3",
   "language": "python",
   "name": "python3"
  },
  "language_info": {
   "codemirror_mode": {
    "name": "ipython",
    "version": 3
   },
   "file_extension": ".py",
   "mimetype": "text/x-python",
   "name": "python",
   "nbconvert_exporter": "python",
   "pygments_lexer": "ipython3",
   "version": "3.8.5"
  }
 },
 "nbformat": 4,
 "nbformat_minor": 4
}
