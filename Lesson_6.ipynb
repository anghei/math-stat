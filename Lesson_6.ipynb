{
 "cells": [
  {
   "cell_type": "markdown",
   "metadata": {},
   "source": [
    "#### Task-1\n",
    "\n",
    "Даны значения величины заработной платы заемщиков банка (zp) и значения их поведенческого кредитного скоринга (ks):\n",
    "zp = [35, 45, 190, 200, 40, 70, 54, 150, 120, 110],\n",
    "ks = [401, 574, 874, 919, 459, 739, 653, 902, 746, 832].\n",
    "Найдите ковариацию этих двух величин с помощью элементарных действий, а затем с помощью функции cov из numpy\n",
    "Полученные значения должны быть равны.\n",
    "Найдите коэффициент корреляции Пирсона с помощью ковариации и среднеквадратичных отклонений двух признаков,\n",
    "а затем с использованием функций из библиотек numpy и pandas.\n"
   ]
  },
  {
   "cell_type": "code",
   "execution_count": 1,
   "metadata": {},
   "outputs": [],
   "source": [
    "import numpy as np\n",
    "import pandas as pd"
   ]
  },
  {
   "cell_type": "code",
   "execution_count": 2,
   "metadata": {},
   "outputs": [],
   "source": [
    "zp = [35, 45, 190, 200, 40, 70, 54, 150, 120, 110]\n",
    "ks = [401, 574, 874, 919, 459, 739, 653, 902, 746, 832]\n",
    "zp = np.array(zp)\n",
    "ks = np.array(ks)"
   ]
  },
  {
   "cell_type": "code",
   "execution_count": 12,
   "metadata": {},
   "outputs": [
    {
     "name": "stdout",
     "output_type": "stream",
     "text": [
      "9157.84\n"
     ]
    }
   ],
   "source": [
    "# с помощью элементарных действий\n",
    "covariance = np.mean(zp * ks) - np.mean(zp) * np.mean(ks)\n",
    "print(round(covariance, 2))"
   ]
  },
  {
   "cell_type": "code",
   "execution_count": 9,
   "metadata": {},
   "outputs": [
    {
     "name": "stdout",
     "output_type": "stream",
     "text": [
      "9157.84\n"
     ]
    }
   ],
   "source": [
    "# с помощью функции cov из numpy\n",
    "np_covariance = np.cov(zp, ks, ddof=0)\n",
    "print(np_covariance[0,1])"
   ]
  },
  {
   "cell_type": "code",
   "execution_count": 13,
   "metadata": {},
   "outputs": [
    {
     "name": "stdout",
     "output_type": "stream",
     "text": [
      "0.8874900920739162\n"
     ]
    }
   ],
   "source": [
    "# Найдите коэффициент корреляции Пирсона с помощью ковариации и среднеквадратичных отклонений двух признаков\n",
    "std_zp = np.std(zp)\n",
    "std_ks = np.std(ks)\n",
    "cor_pearson_manual = np_covariance / (std_zp * std_ks)\n",
    "print(cor_pearson_manual[0,1])"
   ]
  },
  {
   "cell_type": "code",
   "execution_count": 15,
   "metadata": {},
   "outputs": [
    {
     "name": "stdout",
     "output_type": "stream",
     "text": [
      "0.8874900920739162\n"
     ]
    }
   ],
   "source": [
    "# с использованием функций из библиотек numpy\n",
    "cor_pearson_np = np.corrcoef(zp, ks)\n",
    "print(cor_pearson_np[0,1])"
   ]
  },
  {
   "cell_type": "code",
   "execution_count": 24,
   "metadata": {},
   "outputs": [
    {
     "data": {
      "text/plain": [
       "0.8874900920739162"
      ]
     },
     "execution_count": 24,
     "metadata": {},
     "output_type": "execute_result"
    }
   ],
   "source": [
    "# с использованием функций из библиотек pandas\n",
    "df = pd.DataFrame({'zp':zp, 'ks':ks})\n",
    "df.corr(method='pearson').values[0,1]"
   ]
  },
  {
   "cell_type": "markdown",
   "metadata": {},
   "source": [
    "#### Task-2\n",
    "Измерены значения IQ выборки студентов,\n",
    "обучающихся в местных технических вузах:\n",
    "131, 125, 115, 122, 131, 115, 107, 99, 125, 111.\n",
    "Известно, что в генеральной совокупности IQ распределен нормально.\n",
    "Найдите доверительный интервал для математического ожидания с надежностью 0.95."
   ]
  },
  {
   "cell_type": "code",
   "execution_count": 26,
   "metadata": {},
   "outputs": [
    {
     "name": "stdout",
     "output_type": "stream",
     "text": [
      "Доверительный интервал для математического ожидания с надежностью 0.95 составляет - (110.56;125.64)\n"
     ]
    }
   ],
   "source": [
    "sample = np.array([131, 125, 115, 122, 131, 115, 107, 99, 125, 111])\n",
    "n = len(sample)\n",
    "M = np.mean(sample)\n",
    "t = 2.262\n",
    "variance = sample.var(ddof=1)\n",
    "std = np.sqrt(variance)\n",
    "\n",
    "confidence_interval_a = M - t * (std / np.sqrt(len(sample)))\n",
    "confidence_interval_b = M + t * (std / np.sqrt(len(sample)))\n",
    "print(f'Доверительный интервал для математического ожидания с надежностью 0.95 составляет - ({round(confidence_interval_a,2)};{round(confidence_interval_b,2)})')"
   ]
  },
  {
   "cell_type": "markdown",
   "metadata": {},
   "source": [
    "#### Task-3\n",
    "\n",
    "Известно, что рост футболистов в сборной распределен нормально\n",
    "с дисперсией генеральной совокупности, равной 25 кв.см. Объем выборки равен 27,\n",
    "среднее выборочное составляет 174.2. Найдите доверительный интервал для математического\n",
    "ожидания с надежностью 0.95."
   ]
  },
  {
   "cell_type": "code",
   "execution_count": 29,
   "metadata": {},
   "outputs": [
    {
     "name": "stdout",
     "output_type": "stream",
     "text": [
      "Доверительный интервал для математического ожидания с надежностью 0.95 составляет - (172.31;176.09)\n"
     ]
    }
   ],
   "source": [
    "from scipy.stats import norm\n",
    "\n",
    "M = 174.2\n",
    "std = np.sqrt(25)\n",
    "n = 27\n",
    "# Используем Z табл. т.к. сигма можно вычислить из данной дисперсии\n",
    "# a = 97.5% (2.5 + 95%)\n",
    "Z = norm.ppf(0.975)\n",
    "\n",
    "confidence_interval_a = M - Z * (std / np.sqrt(n))\n",
    "confidence_interval_b = M + Z * (std / np.sqrt(n))\n",
    "print(f'Доверительный интервал для математического ожидания с надежностью 0.95 составляет - ({round(confidence_interval_a,2)};{round(confidence_interval_b,2)})')"
   ]
  },
  {
   "cell_type": "code",
   "execution_count": null,
   "metadata": {},
   "outputs": [],
   "source": []
  }
 ],
 "metadata": {
  "kernelspec": {
   "display_name": "Python 3",
   "language": "python",
   "name": "python3"
  },
  "language_info": {
   "codemirror_mode": {
    "name": "ipython",
    "version": 3
   },
   "file_extension": ".py",
   "mimetype": "text/x-python",
   "name": "python",
   "nbconvert_exporter": "python",
   "pygments_lexer": "ipython3",
   "version": "3.8.5"
  }
 },
 "nbformat": 4,
 "nbformat_minor": 4
}
