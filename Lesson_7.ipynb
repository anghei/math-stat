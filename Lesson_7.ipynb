{
  "nbformat": 4,
  "nbformat_minor": 0,
  "metadata": {
    "colab": {
      "name": "Lesson-7.ipynb",
      "provenance": [],
      "collapsed_sections": []
    },
    "kernelspec": {
      "name": "python3",
      "display_name": "Python 3"
    },
    "language_info": {
      "name": "python"
    }
  },
  "cells": [
    {
      "cell_type": "markdown",
      "metadata": {
        "id": "KINnSNyy10wL"
      },
      "source": [
        "#### Task - 1"
      ]
    },
    {
      "cell_type": "markdown",
      "metadata": {
        "id": "HOSN3fLF1tqu"
      },
      "source": [
        "Даны значения величины заработной платы заемщиков банка (zp) и значения их поведенческого кредитного скоринга (ks): zp = [35, 45, 190, 200, 40, 70, 54, 150, 120, 110], ks = [401, 574, 874, 919, 459, 739, 653, 902, 746, 832].\n",
        "Используя математические операции, посчитать коэффициенты линейной регрессии, приняв за X заработную плату (то есть, zp - признак), а за y - значения скорингового балла (то есть, ks - целевая переменная). Произвести расчет как с использованием intercept, так и без."
      ]
    },
    {
      "cell_type": "code",
      "metadata": {
        "id": "hGviZBdt1sJB"
      },
      "source": [
        "import numpy as np"
      ],
      "execution_count": null,
      "outputs": []
    },
    {
      "cell_type": "code",
      "metadata": {
        "id": "kuBkegsr1lsW"
      },
      "source": [
        "# с использованием intercept\n",
        "X = np.array([35, 45, 190, 200, 40, 70, 54, 150, 120, 110])\n",
        "y = np.array([401, 574, 874, 919, 459, 739, 653, 902, 746, 832])"
      ],
      "execution_count": null,
      "outputs": []
    },
    {
      "cell_type": "code",
      "metadata": {
        "colab": {
          "base_uri": "https://localhost:8080/"
        },
        "id": "HT-dyrBt2Jgk",
        "outputId": "282edec3-2ef3-4617-8fb5-bae14c3742d5"
      },
      "source": [
        "b = (np.mean(X*y) - np.mean(X)*np.mean(y)) / (np.mean(X**2) - np.mean(X)**2)\n",
        "print(f'Значение beta равно - {round(b,2)}')"
      ],
      "execution_count": null,
      "outputs": [
        {
          "output_type": "stream",
          "text": [
            "Значение beta равно - 2.62\n"
          ],
          "name": "stdout"
        }
      ]
    },
    {
      "cell_type": "code",
      "metadata": {
        "colab": {
          "base_uri": "https://localhost:8080/"
        },
        "id": "YS-wcQvc2O5k",
        "outputId": "569e105e-09f7-42b5-e6c8-3b2b3d1dd49e"
      },
      "source": [
        "a = np.mean(y) - b*np.mean(X)\n",
        "print(f'Предиктор равен - {round(a,2)}')"
      ],
      "execution_count": null,
      "outputs": [
        {
          "output_type": "stream",
          "text": [
            "Предиктор равен - 444.18\n"
          ],
          "name": "stdout"
        }
      ]
    },
    {
      "cell_type": "code",
      "metadata": {
        "colab": {
          "base_uri": "https://localhost:8080/"
        },
        "id": "HuipH3Nm2WmP",
        "outputId": "9369cc73-35af-4aa4-9bfd-670d9087c49a"
      },
      "source": [
        "y_ht = a + b*X\n",
        "print(y_ht)"
      ],
      "execution_count": null,
      "outputs": [
        {
          "output_type": "stream",
          "text": [
            "[[535.89621821]\n",
            " [562.10160703]\n",
            " [942.07974498]\n",
            " [968.2851338 ]\n",
            " [548.99891262]\n",
            " [627.61507909]\n",
            " [585.68645697]\n",
            " [837.25818968]\n",
            " [758.64202321]\n",
            " [732.43663439]]\n"
          ],
          "name": "stdout"
        }
      ]
    },
    {
      "cell_type": "code",
      "metadata": {
        "id": "ugqz8yrX20v8"
      },
      "source": [
        "# без использования intercept\n",
        "X = X.reshape(len(X), 1)\n",
        "y = y.reshape(len(y), 1)"
      ],
      "execution_count": null,
      "outputs": []
    },
    {
      "cell_type": "code",
      "metadata": {
        "colab": {
          "base_uri": "https://localhost:8080/"
        },
        "id": "m6R1jsCV3Ff7",
        "outputId": "4a22d26a-525c-419c-9d0f-3ccfc6683a76"
      },
      "source": [
        "B = np.dot(np.linalg.inv(np.dot(X.T,X)), X.T@y)\n",
        "# коэф B равен 5.88982042\n",
        "y_ht = 0 + B*X\n",
        "print(y_ht)"
      ],
      "execution_count": null,
      "outputs": [
        {
          "output_type": "stream",
          "text": [
            "[[ 206.1437147 ]\n",
            " [ 265.04191891]\n",
            " [1119.06587983]\n",
            " [1177.96408403]\n",
            " [ 235.59281681]\n",
            " [ 412.28742941]\n",
            " [ 318.05030269]\n",
            " [ 883.47306302]\n",
            " [ 706.77845042]\n",
            " [ 647.88024621]]\n"
          ],
          "name": "stdout"
        }
      ]
    },
    {
      "cell_type": "markdown",
      "metadata": {
        "id": "m12gza8X30rC"
      },
      "source": [
        "#### Task - 2"
      ]
    },
    {
      "cell_type": "markdown",
      "metadata": {
        "id": "vFjypFKw3yru"
      },
      "source": [
        "Посчитать коэффициент линейной регрессии при заработной плате (zp), используя градиентный спуск (без intercept)"
      ]
    },
    {
      "cell_type": "code",
      "metadata": {
        "id": "D2Mnwzft3_ZM"
      },
      "source": [
        "import numpy as np\n",
        "\n",
        "# Посчитать коэффициент линейной регрессии при заработной плате (zp), используя градиентный спуск (без intercept).\n",
        "\n",
        "X = np.array([35, 45, 190, 200, 40, 70, 54, 150, 120, 110])\n",
        "y = np.array([401, 574, 874, 919, 459, 739, 653, 902, 746, 832])"
      ],
      "execution_count": null,
      "outputs": []
    },
    {
      "cell_type": "code",
      "metadata": {
        "id": "dkRhFERu5HIs"
      },
      "source": [
        "B1 = 0.1\n",
        "alpha = 1e-06"
      ],
      "execution_count": null,
      "outputs": []
    },
    {
      "cell_type": "code",
      "metadata": {
        "id": "A88YnUXK5BEn"
      },
      "source": [
        "n = len(X)"
      ],
      "execution_count": null,
      "outputs": []
    },
    {
      "cell_type": "code",
      "metadata": {
        "id": "2GbnMkXM5EgL"
      },
      "source": [
        "def mse(B1, y=y, X=X, n=n):\n",
        "    return np.sum((B1*X - y)**2) / n"
      ],
      "execution_count": null,
      "outputs": []
    },
    {
      "cell_type": "code",
      "metadata": {
        "colab": {
          "base_uri": "https://localhost:8080/"
        },
        "id": "51CLJ3YR5JIa",
        "outputId": "71db9f14-4f8f-4729-cca3-ba7b9cecf07e"
      },
      "source": [
        "for i in range(1000):\n",
        "    B1 -= alpha * (2/n) * np.sum((B1*X - y) * X)\n",
        "    if not i % 50:\n",
        "        print(f\"Iteration: {i}, B1={B1}, mse={mse(B1)}\")"
      ],
      "execution_count": null,
      "outputs": [
        {
          "output_type": "stream",
          "text": [
            "Iteration: 0, B1=0.25952808, mse=493237.7212546963\n",
            "Iteration: 50, B1=4.497229618367758, mse=83233.94472982832\n",
            "Iteration: 100, B1=5.54537842245223, mse=58151.31823171113\n",
            "Iteration: 150, B1=5.804626485478126, mse=56616.849068093856\n",
            "Iteration: 200, B1=5.868748638669329, mse=56522.97550129376\n",
            "Iteration: 250, B1=5.884608547059329, mse=56517.232638059555\n",
            "Iteration: 300, B1=5.888531320728348, mse=56516.88130936019\n",
            "Iteration: 350, B1=5.889501575592372, mse=56516.85981627392\n",
            "Iteration: 400, B1=5.8897415574471985, mse=56516.85850140053\n",
            "Iteration: 450, B1=5.889800914315978, mse=56516.858420961085\n",
            "Iteration: 500, B1=5.889815595583751, mse=56516.858416040064\n",
            "Iteration: 550, B1=5.889819226833643, mse=56516.858415739014\n",
            "Iteration: 600, B1=5.889820124983314, mse=56516.85841572062\n",
            "Iteration: 650, B1=5.889820347130743, mse=56516.858415719485\n",
            "Iteration: 700, B1=5.889820402076462, mse=56516.85841571941\n",
            "Iteration: 750, B1=5.889820415666681, mse=56516.8584157194\n",
            "Iteration: 800, B1=5.88982041902807, mse=56516.8584157194\n",
            "Iteration: 850, B1=5.889820419859474, mse=56516.8584157194\n",
            "Iteration: 900, B1=5.889820420065112, mse=56516.85841571941\n",
            "Iteration: 950, B1=5.889820420115975, mse=56516.8584157194\n"
          ],
          "name": "stdout"
        }
      ]
    },
    {
      "cell_type": "code",
      "metadata": {
        "colab": {
          "base_uri": "https://localhost:8080/"
        },
        "id": "s25jXSri5XZz",
        "outputId": "2dbd4372-8fc4-4227-a6c1-ae275a87ac90"
      },
      "source": [
        "print(mse(5.8898204))"
      ],
      "execution_count": null,
      "outputs": [
        {
          "output_type": "stream",
          "text": [
            "56516.85841571941\n"
          ],
          "name": "stdout"
        }
      ]
    },
    {
      "cell_type": "code",
      "metadata": {
        "id": "mkkYSbPf5a1W"
      },
      "source": [
        ""
      ],
      "execution_count": null,
      "outputs": []
    }
  ]
}