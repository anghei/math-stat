{
  "nbformat": 4,
  "nbformat_minor": 0,
  "metadata": {
    "colab": {
      "name": "Lesson-8.ipynb",
      "provenance": [],
      "collapsed_sections": []
    },
    "kernelspec": {
      "name": "python3",
      "display_name": "Python 3"
    },
    "language_info": {
      "name": "python"
    }
  },
  "cells": [
    {
      "cell_type": "markdown",
      "metadata": {
        "id": "aPq4FJAY6bDP"
      },
      "source": [
        "#### Task - 1"
      ]
    },
    {
      "cell_type": "markdown",
      "metadata": {
        "id": "yDEOZ7IA6YLO"
      },
      "source": [
        "Провести дисперсионный анализ для определения того, есть ли различия среднего роста среди взрослых футболистов, хоккеистов и штангистов.\n",
        "\n",
        "Даны значения роста в трех группах случайно выбранных спортсменов:\n",
        "\n",
        "Футболисты: 173, 175, 180, 178, 177, 185, 183, 182.\n",
        "\n",
        "Хоккеисты: 177, 179, 180, 188, 177, 172, 171, 184, 180.\n",
        "\n",
        "Штангисты: 172, 173, 169, 177, 166, 180, 178, 177, 172, 166, 170."
      ]
    },
    {
      "cell_type": "code",
      "metadata": {
        "id": "gJ-ahuVJ6G4X"
      },
      "source": [
        "import numpy as np\n",
        "from scipy import  stats\n",
        "\n",
        "y1 = np.array([173, 175, 180, 178, 177, 185, 183, 182])\n",
        "y2 = np.array([177, 179, 180, 188, 177, 172, 171, 184, 180])\n",
        "y3 = np.array([172, 173, 169, 177, 166, 180, 178, 177, 172, 166, 170])\n",
        "\n",
        "result = stats.f_oneway(y1, y2, y3)"
      ],
      "execution_count": null,
      "outputs": []
    },
    {
      "cell_type": "code",
      "metadata": {
        "colab": {
          "base_uri": "https://localhost:8080/"
        },
        "id": "LEea5DKi6qco",
        "outputId": "39678c0e-a8ce-42fc-8c7d-96055219c091"
      },
      "source": [
        "print(f'Так как p-value {round(result[1],2)} < 0.05, поэтому верна альтернативная гипотеза H1: вид спорта оказывает статистически значимое вляние на рост спортсмена на уровне значимости 5%')"
      ],
      "execution_count": null,
      "outputs": [
        {
          "output_type": "stream",
          "text": [
            "Так как p-value 0.01 < 0.05, поэтому верна альтернативная гипотеза H1: вид спорта оказывает статистически значимое вляние на рост спортсмена на уровне значимости 5%\n"
          ],
          "name": "stdout"
        }
      ]
    }
  ]
}